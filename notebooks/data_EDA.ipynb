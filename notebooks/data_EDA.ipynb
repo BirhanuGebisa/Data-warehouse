{
 "cells": [
  {
   "cell_type": "code",
   "execution_count": 1,
   "metadata": {},
   "outputs": [],
   "source": [
    "#EDA"
   ]
  },
  {
   "cell_type": "code",
   "execution_count": 1,
   "metadata": {},
   "outputs": [],
   "source": [
    "import sys\n",
    "sys.path.append(\"../scr/\")"
   ]
  },
  {
   "cell_type": "code",
   "execution_count": 2,
   "metadata": {},
   "outputs": [],
   "source": [
    "from load_file import DataReader"
   ]
  },
  {
   "cell_type": "code",
   "execution_count": 5,
   "metadata": {},
   "outputs": [
    {
     "name": "stdout",
     "output_type": "stream",
     "text": [
      "vehicle dataframe\n",
      "                 unique_id  track_id    veh_type  traveled_distance  avg_speed\n",
      "0  20181024_d1_0830_0900_0         1         Car              48.85   9.770344\n",
      "1  20181024_d1_0830_0900_1         2  Motorcycle              98.09  19.839417\n",
      "2  20181024_d1_0830_0900_2         3  Motorcycle              63.80  18.228752\n",
      "3  20181024_d1_0830_0900_3         4  Motorcycle             145.72  26.229014\n",
      "4  20181024_d1_0830_0900_4         5  Motorcycle             138.01  24.841425\n",
      "<class 'pandas.core.frame.DataFrame'>\n",
      "RangeIndex: 922 entries, 0 to 921\n",
      "Data columns (total 5 columns):\n",
      "unique_id            922 non-null object\n",
      "track_id             922 non-null int64\n",
      "veh_type             922 non-null object\n",
      "traveled_distance    922 non-null float64\n",
      "avg_speed            922 non-null float64\n",
      "dtypes: float64(2), int64(1), object(2)\n",
      "memory usage: 36.1+ KB\n",
      "None\n",
      "trajectories dataframe\n",
      "                 unique_id        lat        lon   speed  lon_acc  lat_acc  \\\n",
      "0  20181024_d1_0830_0900_0  37.977391  23.737688  4.9178   0.0518  -0.0299   \n",
      "1  20181024_d1_0830_0900_0  37.977391  23.737688  4.9207  -0.0124  -0.0354   \n",
      "2  20181024_d1_0830_0900_0  37.977391  23.737688  4.9160  -0.0519  -0.0413   \n",
      "3  20181024_d1_0830_0900_0  37.977390  23.737688  4.9057  -0.0914  -0.0478   \n",
      "4  20181024_d1_0830_0900_0  37.977390  23.737689  4.8871  -0.1679  -0.0550   \n",
      "\n",
      "   time  \n",
      "0  0.00  \n",
      "1  0.04  \n",
      "2  0.08  \n",
      "3  0.12  \n",
      "4  0.16  \n",
      "<class 'pandas.core.frame.DataFrame'>\n",
      "RangeIndex: 1446887 entries, 0 to 1446886\n",
      "Data columns (total 7 columns):\n",
      "unique_id    1446887 non-null object\n",
      "lat          1446887 non-null float64\n",
      "lon          1446887 non-null float64\n",
      "speed        1446887 non-null float64\n",
      "lon_acc      1446887 non-null float64\n",
      "lat_acc      1446887 non-null float64\n",
      "time         1446887 non-null float64\n",
      "dtypes: float64(6), object(1)\n",
      "memory usage: 77.3+ MB\n",
      "None\n"
     ]
    }
   ],
   "source": [
    "#columns\n",
    "reader = DataReader(file_path=\"../data/20181024_d1_0830_0900.csv\")\n",
    "vehicle_df, trajectories_df = reader.get_dfs(v=1)"
   ]
  }
 ],
 "metadata": {
  "kernelspec": {
   "display_name": "Python 3.7.0 ('base')",
   "language": "python",
   "name": "python3"
  },
  "language_info": {
   "codemirror_mode": {
    "name": "ipython",
    "version": 3
   },
   "file_extension": ".py",
   "mimetype": "text/x-python",
   "name": "python",
   "nbconvert_exporter": "python",
   "pygments_lexer": "ipython3",
   "version": "3.7.0"
  },
  "orig_nbformat": 4,
  "vscode": {
   "interpreter": {
    "hash": "1c1d84affd04ea94635ae004ab92d8f7c59753998561fcf20a79a729cfcfa1a8"
   }
  }
 },
 "nbformat": 4,
 "nbformat_minor": 2
}
